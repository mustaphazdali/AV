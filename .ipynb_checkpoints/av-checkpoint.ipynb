{
 "cells": [
  {
   "cell_type": "code",
   "execution_count": 1,
   "id": "talented-police",
   "metadata": {},
   "outputs": [],
   "source": [
    "import pandas as pd\n"
   ]
  },
  {
   "cell_type": "code",
   "execution_count": 8,
   "id": "outdoor-pattern",
   "metadata": {},
   "outputs": [
    {
     "name": "stdout",
     "output_type": "stream",
     "text": [
      "<class 'pandas.core.frame.DataFrame'>\n",
      "RangeIndex: 40 entries, 0 to 39\n",
      "Data columns (total 8 columns):\n",
      " #   Column      Non-Null Count  Dtype \n",
      "---  ------      --------------  ----- \n",
      " 0   Unnamed: 0  40 non-null     object\n",
      " 1   Unnamed: 1  40 non-null     object\n",
      " 2   Unnamed: 2  40 non-null     object\n",
      " 3   Unnamed: 3  40 non-null     object\n",
      " 4   Unnamed: 4  34 non-null     object\n",
      " 5   Unnamed: 5  34 non-null     object\n",
      " 6   Unnamed: 6  34 non-null     object\n",
      " 7   Unnamed: 7  34 non-null     object\n",
      "dtypes: object(8)\n",
      "memory usage: 2.6+ KB\n"
     ]
    }
   ],
   "source": [
    "# get stock datas\n",
    "st = pd.read_excel('stock.xlsx', sheet_name='Sheet1')\n",
    "st.info()"
   ]
  },
  {
   "cell_type": "code",
   "execution_count": null,
   "id": "religious-observation",
   "metadata": {},
   "outputs": [],
   "source": []
  }
 ],
 "metadata": {
  "kernelspec": {
   "display_name": "Python 3",
   "language": "python",
   "name": "python3"
  },
  "language_info": {
   "codemirror_mode": {
    "name": "ipython",
    "version": 3
   },
   "file_extension": ".py",
   "mimetype": "text/x-python",
   "name": "python",
   "nbconvert_exporter": "python",
   "pygments_lexer": "ipython3",
   "version": "3.9.1+"
  }
 },
 "nbformat": 4,
 "nbformat_minor": 5
}
